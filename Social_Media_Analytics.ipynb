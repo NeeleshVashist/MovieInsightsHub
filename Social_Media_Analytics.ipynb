{
 "cells": [
  {
   "cell_type": "markdown",
   "metadata": {
    "id": "rZeKUXE0F5Ja"
   },
   "source": [
    "## Step 1: Importing Libraries"
   ]
  },
  {
   "cell_type": "code",
   "execution_count": 1,
   "metadata": {
    "id": "euuHAyauF3fn"
   },
   "outputs": [],
   "source": [
    "import numpy as np\n",
    "import pandas as pd\n",
    "\n",
    "from sklearn.model_selection import train_test_split\n",
    "from sklearn.metrics import mean_squared_error\n",
    "\n",
    "from math import sqrt\n",
    "\n",
    "import requests\n",
    "\n",
    "from textblob import TextBlob\n",
    "\n",
    "import nltk\n",
    "from nltk.corpus import stopwords\n",
    "from nltk.tokenize import word_tokenize\n",
    "from nltk.sentiment import SentimentIntensityAnalyzer\n"
   ]
  },
  {
   "cell_type": "markdown",
   "metadata": {
    "id": "y5HHt-cWF_fl"
   },
   "source": [
    "## Step 2: Data Preparation"
   ]
  },
  {
   "cell_type": "code",
   "execution_count": 2,
   "metadata": {
    "id": "YFsylgLgGDLH"
   },
   "outputs": [],
   "source": [
    "# Load u.data file\n",
    "ratings_data = pd.read_csv('files/u.data', sep='\\t', names=['user_id', 'item_id', 'rating', 'timestamp'])\n",
    "\n",
    "# Load u.item file\n",
    "columns = ['movie_id', 'movie_title', 'release_date', 'video_release_date', 'IMDb_URL', 'unknown', 'Action',\n",
    "           'Adventure', 'Animation', 'Children', 'Comedy', 'Crime', 'Documentary', 'Drama', 'Fantasy',\n",
    "           'Film-Noir', 'Horror', 'Musical', 'Mystery', 'Romance', 'Sci-Fi', 'Thriller', 'War', 'Western']\n",
    "movies_data = pd.read_csv('files/u.item', sep='|', names=columns, encoding='latin-1')\n",
    "\n",
    "# Extract relevant columns from movies_data\n",
    "movies_data = movies_data[['movie_id', 'movie_title', 'unknown', 'Action', 'Adventure', 'Animation', 'Children',\n",
    "                           'Comedy', 'Crime', 'Documentary', 'Drama', 'Fantasy', 'Film-Noir', 'Horror', 'Musical',\n",
    "                           'Mystery', 'Romance', 'Sci-Fi', 'Thriller', 'War', 'Western']]\n",
    "\n",
    "# Load movies_with_youtube_ids DataFrame\n",
    "movies_with_youtube_ids = pd.read_csv('files/movies_with_youtube_ids.csv')\n",
    "\n",
    "# Load comments_data DataFrame\n",
    "comments_data = pd.read_csv('files/youtube_comments.csv')\n"
   ]
  },
  {
   "cell_type": "code",
   "execution_count": 3,
   "metadata": {
    "colab": {
     "base_uri": "https://localhost:8080/",
     "height": 206
    },
    "id": "_AbxafWCG6zo",
    "outputId": "4fe5f30e-9283-4d68-911e-27da512c047e"
   },
   "outputs": [
    {
     "data": {
      "text/html": [
       "<div>\n",
       "<style scoped>\n",
       "    .dataframe tbody tr th:only-of-type {\n",
       "        vertical-align: middle;\n",
       "    }\n",
       "\n",
       "    .dataframe tbody tr th {\n",
       "        vertical-align: top;\n",
       "    }\n",
       "\n",
       "    .dataframe thead th {\n",
       "        text-align: right;\n",
       "    }\n",
       "</style>\n",
       "<table border=\"1\" class=\"dataframe\">\n",
       "  <thead>\n",
       "    <tr style=\"text-align: right;\">\n",
       "      <th></th>\n",
       "      <th>user_id</th>\n",
       "      <th>item_id</th>\n",
       "      <th>rating</th>\n",
       "      <th>timestamp</th>\n",
       "    </tr>\n",
       "  </thead>\n",
       "  <tbody>\n",
       "    <tr>\n",
       "      <th>0</th>\n",
       "      <td>196</td>\n",
       "      <td>242</td>\n",
       "      <td>3</td>\n",
       "      <td>881250949</td>\n",
       "    </tr>\n",
       "    <tr>\n",
       "      <th>1</th>\n",
       "      <td>186</td>\n",
       "      <td>302</td>\n",
       "      <td>3</td>\n",
       "      <td>891717742</td>\n",
       "    </tr>\n",
       "    <tr>\n",
       "      <th>2</th>\n",
       "      <td>22</td>\n",
       "      <td>377</td>\n",
       "      <td>1</td>\n",
       "      <td>878887116</td>\n",
       "    </tr>\n",
       "    <tr>\n",
       "      <th>3</th>\n",
       "      <td>244</td>\n",
       "      <td>51</td>\n",
       "      <td>2</td>\n",
       "      <td>880606923</td>\n",
       "    </tr>\n",
       "    <tr>\n",
       "      <th>4</th>\n",
       "      <td>166</td>\n",
       "      <td>346</td>\n",
       "      <td>1</td>\n",
       "      <td>886397596</td>\n",
       "    </tr>\n",
       "  </tbody>\n",
       "</table>\n",
       "</div>"
      ],
      "text/plain": [
       "   user_id  item_id  rating  timestamp\n",
       "0      196      242       3  881250949\n",
       "1      186      302       3  891717742\n",
       "2       22      377       1  878887116\n",
       "3      244       51       2  880606923\n",
       "4      166      346       1  886397596"
      ]
     },
     "execution_count": 3,
     "metadata": {},
     "output_type": "execute_result"
    }
   ],
   "source": [
    "ratings_data.head()"
   ]
  },
  {
   "cell_type": "code",
   "execution_count": 4,
   "metadata": {
    "colab": {
     "base_uri": "https://localhost:8080/",
     "height": 403
    },
    "id": "FWTaNsaOG7bU",
    "outputId": "923161f1-6501-45c3-cb99-9565cee2b9b5"
   },
   "outputs": [
    {
     "data": {
      "text/html": [
       "<div>\n",
       "<style scoped>\n",
       "    .dataframe tbody tr th:only-of-type {\n",
       "        vertical-align: middle;\n",
       "    }\n",
       "\n",
       "    .dataframe tbody tr th {\n",
       "        vertical-align: top;\n",
       "    }\n",
       "\n",
       "    .dataframe thead th {\n",
       "        text-align: right;\n",
       "    }\n",
       "</style>\n",
       "<table border=\"1\" class=\"dataframe\">\n",
       "  <thead>\n",
       "    <tr style=\"text-align: right;\">\n",
       "      <th></th>\n",
       "      <th>movie_id</th>\n",
       "      <th>movie_title</th>\n",
       "      <th>unknown</th>\n",
       "      <th>Action</th>\n",
       "      <th>Adventure</th>\n",
       "      <th>Animation</th>\n",
       "      <th>Children</th>\n",
       "      <th>Comedy</th>\n",
       "      <th>Crime</th>\n",
       "      <th>Documentary</th>\n",
       "      <th>...</th>\n",
       "      <th>Fantasy</th>\n",
       "      <th>Film-Noir</th>\n",
       "      <th>Horror</th>\n",
       "      <th>Musical</th>\n",
       "      <th>Mystery</th>\n",
       "      <th>Romance</th>\n",
       "      <th>Sci-Fi</th>\n",
       "      <th>Thriller</th>\n",
       "      <th>War</th>\n",
       "      <th>Western</th>\n",
       "    </tr>\n",
       "  </thead>\n",
       "  <tbody>\n",
       "    <tr>\n",
       "      <th>0</th>\n",
       "      <td>1</td>\n",
       "      <td>Toy Story (1995)</td>\n",
       "      <td>0</td>\n",
       "      <td>0</td>\n",
       "      <td>0</td>\n",
       "      <td>1</td>\n",
       "      <td>1</td>\n",
       "      <td>1</td>\n",
       "      <td>0</td>\n",
       "      <td>0</td>\n",
       "      <td>...</td>\n",
       "      <td>0</td>\n",
       "      <td>0</td>\n",
       "      <td>0</td>\n",
       "      <td>0</td>\n",
       "      <td>0</td>\n",
       "      <td>0</td>\n",
       "      <td>0</td>\n",
       "      <td>0</td>\n",
       "      <td>0</td>\n",
       "      <td>0</td>\n",
       "    </tr>\n",
       "    <tr>\n",
       "      <th>1</th>\n",
       "      <td>2</td>\n",
       "      <td>GoldenEye (1995)</td>\n",
       "      <td>0</td>\n",
       "      <td>1</td>\n",
       "      <td>1</td>\n",
       "      <td>0</td>\n",
       "      <td>0</td>\n",
       "      <td>0</td>\n",
       "      <td>0</td>\n",
       "      <td>0</td>\n",
       "      <td>...</td>\n",
       "      <td>0</td>\n",
       "      <td>0</td>\n",
       "      <td>0</td>\n",
       "      <td>0</td>\n",
       "      <td>0</td>\n",
       "      <td>0</td>\n",
       "      <td>0</td>\n",
       "      <td>1</td>\n",
       "      <td>0</td>\n",
       "      <td>0</td>\n",
       "    </tr>\n",
       "    <tr>\n",
       "      <th>2</th>\n",
       "      <td>3</td>\n",
       "      <td>Four Rooms (1995)</td>\n",
       "      <td>0</td>\n",
       "      <td>0</td>\n",
       "      <td>0</td>\n",
       "      <td>0</td>\n",
       "      <td>0</td>\n",
       "      <td>0</td>\n",
       "      <td>0</td>\n",
       "      <td>0</td>\n",
       "      <td>...</td>\n",
       "      <td>0</td>\n",
       "      <td>0</td>\n",
       "      <td>0</td>\n",
       "      <td>0</td>\n",
       "      <td>0</td>\n",
       "      <td>0</td>\n",
       "      <td>0</td>\n",
       "      <td>1</td>\n",
       "      <td>0</td>\n",
       "      <td>0</td>\n",
       "    </tr>\n",
       "    <tr>\n",
       "      <th>3</th>\n",
       "      <td>4</td>\n",
       "      <td>Get Shorty (1995)</td>\n",
       "      <td>0</td>\n",
       "      <td>1</td>\n",
       "      <td>0</td>\n",
       "      <td>0</td>\n",
       "      <td>0</td>\n",
       "      <td>1</td>\n",
       "      <td>0</td>\n",
       "      <td>0</td>\n",
       "      <td>...</td>\n",
       "      <td>0</td>\n",
       "      <td>0</td>\n",
       "      <td>0</td>\n",
       "      <td>0</td>\n",
       "      <td>0</td>\n",
       "      <td>0</td>\n",
       "      <td>0</td>\n",
       "      <td>0</td>\n",
       "      <td>0</td>\n",
       "      <td>0</td>\n",
       "    </tr>\n",
       "    <tr>\n",
       "      <th>4</th>\n",
       "      <td>5</td>\n",
       "      <td>Copycat (1995)</td>\n",
       "      <td>0</td>\n",
       "      <td>0</td>\n",
       "      <td>0</td>\n",
       "      <td>0</td>\n",
       "      <td>0</td>\n",
       "      <td>0</td>\n",
       "      <td>1</td>\n",
       "      <td>0</td>\n",
       "      <td>...</td>\n",
       "      <td>0</td>\n",
       "      <td>0</td>\n",
       "      <td>0</td>\n",
       "      <td>0</td>\n",
       "      <td>0</td>\n",
       "      <td>0</td>\n",
       "      <td>0</td>\n",
       "      <td>1</td>\n",
       "      <td>0</td>\n",
       "      <td>0</td>\n",
       "    </tr>\n",
       "  </tbody>\n",
       "</table>\n",
       "<p>5 rows × 21 columns</p>\n",
       "</div>"
      ],
      "text/plain": [
       "   movie_id        movie_title  unknown  Action  Adventure  Animation  \\\n",
       "0         1   Toy Story (1995)        0       0          0          1   \n",
       "1         2   GoldenEye (1995)        0       1          1          0   \n",
       "2         3  Four Rooms (1995)        0       0          0          0   \n",
       "3         4  Get Shorty (1995)        0       1          0          0   \n",
       "4         5     Copycat (1995)        0       0          0          0   \n",
       "\n",
       "   Children  Comedy  Crime  Documentary  ...  Fantasy  Film-Noir  Horror  \\\n",
       "0         1       1      0            0  ...        0          0       0   \n",
       "1         0       0      0            0  ...        0          0       0   \n",
       "2         0       0      0            0  ...        0          0       0   \n",
       "3         0       1      0            0  ...        0          0       0   \n",
       "4         0       0      1            0  ...        0          0       0   \n",
       "\n",
       "   Musical  Mystery  Romance  Sci-Fi  Thriller  War  Western  \n",
       "0        0        0        0       0         0    0        0  \n",
       "1        0        0        0       0         1    0        0  \n",
       "2        0        0        0       0         1    0        0  \n",
       "3        0        0        0       0         0    0        0  \n",
       "4        0        0        0       0         1    0        0  \n",
       "\n",
       "[5 rows x 21 columns]"
      ]
     },
     "execution_count": 4,
     "metadata": {},
     "output_type": "execute_result"
    }
   ],
   "source": [
    "movies_data.head()"
   ]
  },
  {
   "cell_type": "code",
   "execution_count": 5,
   "metadata": {},
   "outputs": [
    {
     "data": {
      "text/html": [
       "<div>\n",
       "<style scoped>\n",
       "    .dataframe tbody tr th:only-of-type {\n",
       "        vertical-align: middle;\n",
       "    }\n",
       "\n",
       "    .dataframe tbody tr th {\n",
       "        vertical-align: top;\n",
       "    }\n",
       "\n",
       "    .dataframe thead th {\n",
       "        text-align: right;\n",
       "    }\n",
       "</style>\n",
       "<table border=\"1\" class=\"dataframe\">\n",
       "  <thead>\n",
       "    <tr style=\"text-align: right;\">\n",
       "      <th></th>\n",
       "      <th>movie_id</th>\n",
       "      <th>movie_title</th>\n",
       "      <th>unknown</th>\n",
       "      <th>Action</th>\n",
       "      <th>Adventure</th>\n",
       "      <th>Animation</th>\n",
       "      <th>Children</th>\n",
       "      <th>Comedy</th>\n",
       "      <th>Crime</th>\n",
       "      <th>Documentary</th>\n",
       "      <th>...</th>\n",
       "      <th>Film-Noir</th>\n",
       "      <th>Horror</th>\n",
       "      <th>Musical</th>\n",
       "      <th>Mystery</th>\n",
       "      <th>Romance</th>\n",
       "      <th>Sci-Fi</th>\n",
       "      <th>Thriller</th>\n",
       "      <th>War</th>\n",
       "      <th>Western</th>\n",
       "      <th>youtube_video_id</th>\n",
       "    </tr>\n",
       "  </thead>\n",
       "  <tbody>\n",
       "    <tr>\n",
       "      <th>0</th>\n",
       "      <td>1</td>\n",
       "      <td>Toy Story (1995)</td>\n",
       "      <td>0</td>\n",
       "      <td>0</td>\n",
       "      <td>0</td>\n",
       "      <td>1</td>\n",
       "      <td>1</td>\n",
       "      <td>1</td>\n",
       "      <td>0</td>\n",
       "      <td>0</td>\n",
       "      <td>...</td>\n",
       "      <td>0</td>\n",
       "      <td>0</td>\n",
       "      <td>0</td>\n",
       "      <td>0</td>\n",
       "      <td>0</td>\n",
       "      <td>0</td>\n",
       "      <td>0</td>\n",
       "      <td>0</td>\n",
       "      <td>0</td>\n",
       "      <td>v-PjgYDrg70</td>\n",
       "    </tr>\n",
       "    <tr>\n",
       "      <th>1</th>\n",
       "      <td>2</td>\n",
       "      <td>GoldenEye (1995)</td>\n",
       "      <td>0</td>\n",
       "      <td>1</td>\n",
       "      <td>1</td>\n",
       "      <td>0</td>\n",
       "      <td>0</td>\n",
       "      <td>0</td>\n",
       "      <td>0</td>\n",
       "      <td>0</td>\n",
       "      <td>...</td>\n",
       "      <td>0</td>\n",
       "      <td>0</td>\n",
       "      <td>0</td>\n",
       "      <td>0</td>\n",
       "      <td>0</td>\n",
       "      <td>0</td>\n",
       "      <td>1</td>\n",
       "      <td>0</td>\n",
       "      <td>0</td>\n",
       "      <td>lcOqUE0u1LM</td>\n",
       "    </tr>\n",
       "    <tr>\n",
       "      <th>2</th>\n",
       "      <td>3</td>\n",
       "      <td>Four Rooms (1995)</td>\n",
       "      <td>0</td>\n",
       "      <td>0</td>\n",
       "      <td>0</td>\n",
       "      <td>0</td>\n",
       "      <td>0</td>\n",
       "      <td>0</td>\n",
       "      <td>0</td>\n",
       "      <td>0</td>\n",
       "      <td>...</td>\n",
       "      <td>0</td>\n",
       "      <td>0</td>\n",
       "      <td>0</td>\n",
       "      <td>0</td>\n",
       "      <td>0</td>\n",
       "      <td>0</td>\n",
       "      <td>1</td>\n",
       "      <td>0</td>\n",
       "      <td>0</td>\n",
       "      <td>0hu12MP7b1U</td>\n",
       "    </tr>\n",
       "    <tr>\n",
       "      <th>3</th>\n",
       "      <td>4</td>\n",
       "      <td>Get Shorty (1995)</td>\n",
       "      <td>0</td>\n",
       "      <td>1</td>\n",
       "      <td>0</td>\n",
       "      <td>0</td>\n",
       "      <td>0</td>\n",
       "      <td>1</td>\n",
       "      <td>0</td>\n",
       "      <td>0</td>\n",
       "      <td>...</td>\n",
       "      <td>0</td>\n",
       "      <td>0</td>\n",
       "      <td>0</td>\n",
       "      <td>0</td>\n",
       "      <td>0</td>\n",
       "      <td>0</td>\n",
       "      <td>0</td>\n",
       "      <td>0</td>\n",
       "      <td>0</td>\n",
       "      <td>t2QcA-KoF5s</td>\n",
       "    </tr>\n",
       "    <tr>\n",
       "      <th>4</th>\n",
       "      <td>5</td>\n",
       "      <td>Copycat (1995)</td>\n",
       "      <td>0</td>\n",
       "      <td>0</td>\n",
       "      <td>0</td>\n",
       "      <td>0</td>\n",
       "      <td>0</td>\n",
       "      <td>0</td>\n",
       "      <td>1</td>\n",
       "      <td>0</td>\n",
       "      <td>...</td>\n",
       "      <td>0</td>\n",
       "      <td>0</td>\n",
       "      <td>0</td>\n",
       "      <td>0</td>\n",
       "      <td>0</td>\n",
       "      <td>0</td>\n",
       "      <td>1</td>\n",
       "      <td>0</td>\n",
       "      <td>0</td>\n",
       "      <td>5Pp64srMAH4</td>\n",
       "    </tr>\n",
       "  </tbody>\n",
       "</table>\n",
       "<p>5 rows × 22 columns</p>\n",
       "</div>"
      ],
      "text/plain": [
       "   movie_id        movie_title  unknown  Action  Adventure  Animation  \\\n",
       "0         1   Toy Story (1995)        0       0          0          1   \n",
       "1         2   GoldenEye (1995)        0       1          1          0   \n",
       "2         3  Four Rooms (1995)        0       0          0          0   \n",
       "3         4  Get Shorty (1995)        0       1          0          0   \n",
       "4         5     Copycat (1995)        0       0          0          0   \n",
       "\n",
       "   Children  Comedy  Crime  Documentary  ...  Film-Noir  Horror  Musical  \\\n",
       "0         1       1      0            0  ...          0       0        0   \n",
       "1         0       0      0            0  ...          0       0        0   \n",
       "2         0       0      0            0  ...          0       0        0   \n",
       "3         0       1      0            0  ...          0       0        0   \n",
       "4         0       0      1            0  ...          0       0        0   \n",
       "\n",
       "   Mystery  Romance  Sci-Fi  Thriller  War  Western  youtube_video_id  \n",
       "0        0        0       0         0    0        0       v-PjgYDrg70  \n",
       "1        0        0       0         1    0        0       lcOqUE0u1LM  \n",
       "2        0        0       0         1    0        0       0hu12MP7b1U  \n",
       "3        0        0       0         0    0        0       t2QcA-KoF5s  \n",
       "4        0        0       0         1    0        0       5Pp64srMAH4  \n",
       "\n",
       "[5 rows x 22 columns]"
      ]
     },
     "execution_count": 5,
     "metadata": {},
     "output_type": "execute_result"
    }
   ],
   "source": [
    "movies_with_youtube_ids.head()"
   ]
  },
  {
   "cell_type": "code",
   "execution_count": 6,
   "metadata": {},
   "outputs": [
    {
     "data": {
      "text/html": [
       "<div>\n",
       "<style scoped>\n",
       "    .dataframe tbody tr th:only-of-type {\n",
       "        vertical-align: middle;\n",
       "    }\n",
       "\n",
       "    .dataframe tbody tr th {\n",
       "        vertical-align: top;\n",
       "    }\n",
       "\n",
       "    .dataframe thead th {\n",
       "        text-align: right;\n",
       "    }\n",
       "</style>\n",
       "<table border=\"1\" class=\"dataframe\">\n",
       "  <thead>\n",
       "    <tr style=\"text-align: right;\">\n",
       "      <th></th>\n",
       "      <th>youtube_video_id</th>\n",
       "      <th>comment_text</th>\n",
       "    </tr>\n",
       "  </thead>\n",
       "  <tbody>\n",
       "    <tr>\n",
       "      <th>0</th>\n",
       "      <td>v-PjgYDrg70</td>\n",
       "      <td>Hooo</td>\n",
       "    </tr>\n",
       "    <tr>\n",
       "      <th>1</th>\n",
       "      <td>lcOqUE0u1LM</td>\n",
       "      <td>Merveilleux  film, je l'ai vu depuis des année...</td>\n",
       "    </tr>\n",
       "    <tr>\n",
       "      <th>2</th>\n",
       "      <td>0hu12MP7b1U</td>\n",
       "      <td>Its a perfect film.</td>\n",
       "    </tr>\n",
       "    <tr>\n",
       "      <th>3</th>\n",
       "      <td>t2QcA-KoF5s</td>\n",
       "      <td>Kevin Spacey - winning Oscar Best Actor for th...</td>\n",
       "    </tr>\n",
       "    <tr>\n",
       "      <th>4</th>\n",
       "      <td>5Pp64srMAH4</td>\n",
       "      <td>Just finished it and i said to myself after se...</td>\n",
       "    </tr>\n",
       "  </tbody>\n",
       "</table>\n",
       "</div>"
      ],
      "text/plain": [
       "  youtube_video_id                                       comment_text\n",
       "0      v-PjgYDrg70                                               Hooo\n",
       "1      lcOqUE0u1LM  Merveilleux  film, je l'ai vu depuis des année...\n",
       "2      0hu12MP7b1U                                Its a perfect film.\n",
       "3      t2QcA-KoF5s  Kevin Spacey - winning Oscar Best Actor for th...\n",
       "4      5Pp64srMAH4  Just finished it and i said to myself after se..."
      ]
     },
     "execution_count": 6,
     "metadata": {},
     "output_type": "execute_result"
    }
   ],
   "source": [
    "comments_data.head()"
   ]
  },
  {
   "cell_type": "code",
   "execution_count": 7,
   "metadata": {
    "colab": {
     "base_uri": "https://localhost:8080/"
    },
    "id": "yEkuCOeXG9jz",
    "outputId": "f0d1aff5-ada4-428f-8001-a687ee29024c"
   },
   "outputs": [
    {
     "data": {
      "text/plain": [
       "(100000, 4)"
      ]
     },
     "execution_count": 7,
     "metadata": {},
     "output_type": "execute_result"
    }
   ],
   "source": [
    "ratings_data.shape"
   ]
  },
  {
   "cell_type": "code",
   "execution_count": 8,
   "metadata": {
    "colab": {
     "base_uri": "https://localhost:8080/"
    },
    "id": "UMiHR3-JHBlk",
    "outputId": "114772a1-0902-434f-ba31-865774f93672"
   },
   "outputs": [
    {
     "data": {
      "text/plain": [
       "(1682, 21)"
      ]
     },
     "execution_count": 8,
     "metadata": {},
     "output_type": "execute_result"
    }
   ],
   "source": [
    "movies_data.shape"
   ]
  },
  {
   "cell_type": "code",
   "execution_count": 9,
   "metadata": {},
   "outputs": [
    {
     "data": {
      "text/plain": [
       "(1682, 22)"
      ]
     },
     "execution_count": 9,
     "metadata": {},
     "output_type": "execute_result"
    }
   ],
   "source": [
    "movies_with_youtube_ids.shape"
   ]
  },
  {
   "cell_type": "code",
   "execution_count": 10,
   "metadata": {},
   "outputs": [
    {
     "data": {
      "text/plain": [
       "(1682, 2)"
      ]
     },
     "execution_count": 10,
     "metadata": {},
     "output_type": "execute_result"
    }
   ],
   "source": [
    "comments_data.shape"
   ]
  },
  {
   "cell_type": "markdown",
   "metadata": {
    "id": "Su2t-Wh5GFcB"
   },
   "source": [
    "# Step 3: Collaborative filtering-based recommender system\n",
    "Algorithm used: Matrix factorization"
   ]
  },
  {
   "cell_type": "code",
   "execution_count": 11,
   "metadata": {
    "colab": {
     "base_uri": "https://localhost:8080/"
    },
    "id": "vMNoAk0UGGwq",
    "outputId": "3c449993-e228-44ad-ed13-82f33b3ebfae"
   },
   "outputs": [
    {
     "name": "stdout",
     "output_type": "stream",
     "text": [
      "Root Mean Squared Error (RMSE) for Collaborative Filtering: 2.8344\n"
     ]
    }
   ],
   "source": [
    "# Split the data into training and testing sets\n",
    "train_data, test_data = train_test_split(ratings_data, test_size=0.2, random_state=42)\n",
    "\n",
    "# Create user-item rating matrix for training data\n",
    "n_users = ratings_data['user_id'].nunique()\n",
    "n_items = ratings_data['item_id'].nunique()\n",
    "train_matrix = np.zeros((n_users, n_items))\n",
    "for row in train_data.itertuples():\n",
    "    train_matrix[row[1] - 1, row[2] - 1] = row[3]\n",
    "\n",
    "# Perform Singular Value Decomposition (SVD) on the training matrix\n",
    "k = 50\n",
    "U, sigma, Vt = np.linalg.svd(train_matrix)\n",
    "\n",
    "# Take only the first k columns of U and first k rows of Vt to approximate the original matrix\n",
    "U_k = U[:, :k]\n",
    "Vt_k = Vt[:k, :]\n",
    "\n",
    "# Reconstruct the predicted rating matrix using the approximated matrices\n",
    "predicted_ratings = np.dot(np.dot(U_k, np.diag(sigma[:k])), Vt_k)\n",
    "\n",
    "# Predicted ratings matrix may contain negative values, so clip them to the range [0, 5]\n",
    "predicted_ratings = np.clip(predicted_ratings, 0, 5)\n",
    "\n",
    "# Evaluation: Calculate Root Mean Squared Error (RMSE) for the test data\n",
    "test_matrix = np.zeros((n_users, n_items))\n",
    "for row in test_data.itertuples():\n",
    "    test_matrix[row[1] - 1, row[2] - 1] = row[3]\n",
    "\n",
    "# Keep only the non-zero entries to calculate RMSE\n",
    "non_zero_idx = test_matrix.nonzero()\n",
    "rmse = sqrt(mean_squared_error(test_matrix[non_zero_idx], predicted_ratings[non_zero_idx]))\n",
    "\n",
    "print(f\"Root Mean Squared Error (RMSE) for Collaborative Filtering: {rmse:.4f}\")\n"
   ]
  },
  {
   "cell_type": "markdown",
   "metadata": {
    "id": "x-vqDhX5IAme"
   },
   "source": [
    "### Loading Data and Getting Top 10 Movies with Highest Predicted Ratings\n",
    "\n"
   ]
  },
  {
   "cell_type": "code",
   "execution_count": 12,
   "metadata": {
    "colab": {
     "base_uri": "https://localhost:8080/"
    },
    "id": "pbKiNgHJHIgr",
    "outputId": "16fc2049-1aee-4830-e56c-93fa8bea9766"
   },
   "outputs": [
    {
     "name": "stdout",
     "output_type": "stream",
     "text": [
      "Top 10 Movies with Highest Predicted Ratings for All Users:\n",
      "     item_id                       movie_title  Average Predicted Rating\n",
      "49        50                  Star Wars (1977)                  2.101643\n",
      "99       100                      Fargo (1996)                  1.824366\n",
      "180      181         Return of the Jedi (1983)                  1.731883\n",
      "257      258                    Contact (1997)                  1.661843\n",
      "126      127             Godfather, The (1972)                  1.575842\n",
      "285      286       English Patient, The (1996)                  1.549842\n",
      "97        98  Silence of the Lambs, The (1991)                  1.505015\n",
      "0          1                  Toy Story (1995)                  1.467114\n",
      "287      288                     Scream (1996)                  1.457047\n",
      "173      174    Raiders of the Lost Ark (1981)                  1.451527\n"
     ]
    }
   ],
   "source": [
    "# Load movie titles from u.item and calculate average predicted rating for each movie\n",
    "movies_info = pd.read_csv('files/u.item', sep='|', encoding='latin-1', header=None, names=['item_id', 'movie_title'], usecols=[0, 1])\n",
    "movies_info['item_id'] = movies_info['item_id'].astype(int)\n",
    "movies_info['Average Predicted Rating'] = predicted_ratings.mean(axis=0)\n",
    "\n",
    "# Sort the movies based on their average predicted ratings in descending order\n",
    "top_10_movies = movies_info.sort_values(by='Average Predicted Rating', ascending=False).head(10)\n",
    "\n",
    "# Function to display a DataFrame in a table format\n",
    "def display_table(data_frame, columns):\n",
    "    print(data_frame[columns])\n",
    "\n",
    "# Display the top 10 movies\n",
    "print(\"Top 10 Movies with Highest Predicted Ratings for All Users:\")\n",
    "display_table(top_10_movies, ['item_id', 'movie_title', 'Average Predicted Rating'])\n"
   ]
  },
  {
   "cell_type": "markdown",
   "metadata": {
    "id": "SsqijBDuIHkk"
   },
   "source": [
    "### Function to Get Top N Recommended Movies for a User"
   ]
  },
  {
   "cell_type": "code",
   "execution_count": 13,
   "metadata": {
    "colab": {
     "base_uri": "https://localhost:8080/"
    },
    "id": "7HiyZfUeHLB4",
    "outputId": "5bb09999-09df-455d-9442-e0724eb0c48c"
   },
   "outputs": [
    {
     "name": "stdout",
     "output_type": "stream",
     "text": [
      "Top 10 Recommended Movies:\n",
      "   item_id                             movie_title  Predicted Rating\n",
      "0       12              Usual Suspects, The (1995)               5.0\n",
      "1       50                        Star Wars (1977)               5.0\n",
      "2       96       Terminator 2: Judgment Day (1991)               5.0\n",
      "3       98        Silence of the Lambs, The (1991)               5.0\n",
      "4      168  Monty Python and the Holy Grail (1974)               5.0\n",
      "5      175                           Brazil (1985)               5.0\n",
      "6      183                            Alien (1979)               5.0\n",
      "7      202                    Groundhog Day (1993)               5.0\n",
      "8      216          When Harry Met Sally... (1989)               5.0\n",
      "9      268                      Chasing Amy (1997)               5.0\n"
     ]
    }
   ],
   "source": [
    "# Function to get top N recommended movies for a user\n",
    "def get_top_n_movies(user_id, n=10):\n",
    "    user_row = predicted_ratings[user_id - 1]\n",
    "    sorted_indices = np.argsort(user_row)[::-1]  # Sort in descending order\n",
    "    top_indices = sorted_indices[:n]\n",
    "    top_movie_ids = [i + 1 for i in top_indices]  # Movie ids start from 1 in the dataset\n",
    "    top_movies = movies_info[movies_info['item_id'].isin(top_movie_ids)].copy()\n",
    "    top_movies['Predicted Rating'] = user_row[top_indices]\n",
    "    top_movies.reset_index(drop=True, inplace=True)\n",
    "    return top_movies[['item_id', 'movie_title', 'Predicted Rating']]\n",
    "\n",
    "# Get top 10 recommended movies for user with ID 1 (you can change the user ID as per your choice)\n",
    "top_10_movies = get_top_n_movies(user_id=1, n=10)\n",
    "\n",
    "# Display the top 10 recommended movies in a table format\n",
    "print(\"Top 10 Recommended Movies:\")\n",
    "print(top_10_movies)\n"
   ]
  },
  {
   "cell_type": "markdown",
   "metadata": {
    "id": "mP6cux04IPBS"
   },
   "source": [
    "### Getting 10 Least Recommended Movies"
   ]
  },
  {
   "cell_type": "code",
   "execution_count": 14,
   "metadata": {
    "colab": {
     "base_uri": "https://localhost:8080/"
    },
    "id": "cZnVWMJkHNt9",
    "outputId": "cda5ed87-7eb8-4cb0-9828-d14957f38e03"
   },
   "outputs": [
    {
     "name": "stdout",
     "output_type": "stream",
     "text": [
      "10 Least Recommended Movies:\n",
      "      item_id                                   movie_title  \\\n",
      "1681     1682     Scream of Stone (Schrei aus Stein) (1991)   \n",
      "1351     1352  Shadow of Angels (Schatten der Engel) (1976)   \n",
      "1363     1364                           Bird of Prey (1996)   \n",
      "1648     1649                           Big One, The (1997)   \n",
      "1647     1648                       Niagara, Niagara (1997)   \n",
      "1639     1640                        Eighth Day, The (1996)   \n",
      "1432     1433                           Men of Means (1998)   \n",
      "1459     1460                              Sleepover (1995)   \n",
      "1636     1637                             Girls Town (1996)   \n",
      "1492     1493                       Modern Affair, A (1995)   \n",
      "\n",
      "      Average Predicted Rating  \n",
      "1681                       0.0  \n",
      "1351                       0.0  \n",
      "1363                       0.0  \n",
      "1648                       0.0  \n",
      "1647                       0.0  \n",
      "1639                       0.0  \n",
      "1432                       0.0  \n",
      "1459                       0.0  \n",
      "1636                       0.0  \n",
      "1492                       0.0  \n"
     ]
    }
   ],
   "source": [
    "# Sort the movies based on their average predicted ratings in ascending order\n",
    "bottom_10_movies = movies_info.sort_values(by='Average Predicted Rating').head(10)\n",
    "\n",
    "# Display the bottom 10 movies in a table format\n",
    "print(\"10 Least Recommended Movies:\")\n",
    "print(bottom_10_movies[['item_id', 'movie_title', 'Average Predicted Rating']])\n"
   ]
  },
  {
   "cell_type": "markdown",
   "metadata": {},
   "source": [
    "## Step 4: Sentiment Analysis on Youtube Movie Comments"
   ]
  },
  {
   "cell_type": "code",
   "execution_count": 15,
   "metadata": {},
   "outputs": [
    {
     "name": "stderr",
     "output_type": "stream",
     "text": [
      "[nltk_data] Downloading package punkt to\n",
      "[nltk_data]     C:\\Users\\neele\\AppData\\Roaming\\nltk_data...\n",
      "[nltk_data]   Package punkt is already up-to-date!\n",
      "[nltk_data] Downloading package stopwords to\n",
      "[nltk_data]     C:\\Users\\neele\\AppData\\Roaming\\nltk_data...\n",
      "[nltk_data]   Package stopwords is already up-to-date!\n",
      "[nltk_data] Downloading package vader_lexicon to\n",
      "[nltk_data]     C:\\Users\\neele\\AppData\\Roaming\\nltk_data...\n",
      "[nltk_data]   Package vader_lexicon is already up-to-date!\n"
     ]
    },
    {
     "data": {
      "text/plain": [
       "True"
      ]
     },
     "execution_count": 15,
     "metadata": {},
     "output_type": "execute_result"
    }
   ],
   "source": [
    "# Download NLTK resources (if not already downloaded)\n",
    "nltk.download('punkt')\n",
    "nltk.download('stopwords')\n",
    "nltk.download('vader_lexicon')"
   ]
  },
  {
   "cell_type": "code",
   "execution_count": 16,
   "metadata": {},
   "outputs": [
    {
     "name": "stdout",
     "output_type": "stream",
     "text": [
      "Movies with Average Sentiment Scores (TextBlob):\n",
      "                                    movie_title  Average Sentiment (TextBlob)\n",
      "0                              Toy Story (1995)                      0.000000\n",
      "1                              GoldenEye (1995)                      0.000000\n",
      "2                             Four Rooms (1995)                      1.000000\n",
      "3                             Get Shorty (1995)                      0.750000\n",
      "4                                Copycat (1995)                      0.308333\n",
      "...                                         ...                           ...\n",
      "1677                          Mat' i syn (1997)                     -0.019048\n",
      "1678                           B. Monkey (1998)                      0.000000\n",
      "1679                       Sliding Doors (1998)                      0.100000\n",
      "1680                        You So Crazy (1994)                      0.285714\n",
      "1681  Scream of Stone (Schrei aus Stein) (1991)                     -0.400000\n",
      "\n",
      "[1682 rows x 2 columns]\n",
      "\n",
      "Movies with Average Sentiment Scores (VADER):\n",
      "                                    movie_title  Average Sentiment (VADER)\n",
      "0                              Toy Story (1995)                    0.00000\n",
      "1                              GoldenEye (1995)                    0.00000\n",
      "2                             Four Rooms (1995)                    0.57190\n",
      "3                             Get Shorty (1995)                    0.82250\n",
      "4                                Copycat (1995)                    0.90720\n",
      "...                                         ...                        ...\n",
      "1677                          Mat' i syn (1997)                    0.78450\n",
      "1678                           B. Monkey (1998)                   -0.29600\n",
      "1679                       Sliding Doors (1998)                    0.11315\n",
      "1680                        You So Crazy (1994)                    0.41840\n",
      "1681  Scream of Stone (Schrei aus Stein) (1991)                   -0.54230\n",
      "\n",
      "[1682 rows x 2 columns]\n"
     ]
    }
   ],
   "source": [
    "# Function to preprocess and clean text data\n",
    "def preprocess_text(text):\n",
    "    # Tokenize the text\n",
    "    words = word_tokenize(text)\n",
    "    \n",
    "    # Remove punctuation and convert to lowercase\n",
    "    words = [word.lower() for word in words if word.isalnum()]\n",
    "    \n",
    "    # Remove stopwords\n",
    "    stop_words = set(stopwords.words('english'))\n",
    "    words = [word for word in words if word not in stop_words]\n",
    "    \n",
    "    # Join the cleaned words\n",
    "    cleaned_text = ' '.join(words)\n",
    "    return cleaned_text\n",
    "\n",
    "# Function to calculate sentiment scores using TextBlob\n",
    "def calculate_textblob_sentiment(text):\n",
    "    text = preprocess_text(text)\n",
    "    blob = TextBlob(text)\n",
    "    sentiment = blob.sentiment.polarity\n",
    "    return sentiment\n",
    "\n",
    "# Function to calculate sentiment scores using VADER (Valence Aware Dictionary and sEntiment Reasoner)\n",
    "def calculate_vader_sentiment(text):\n",
    "    sia = SentimentIntensityAnalyzer()\n",
    "    sentiment = sia.polarity_scores(text)['compound']\n",
    "    return sentiment\n",
    "\n",
    "# Calculate sentiment scores for comments and return average sentiment score\n",
    "def calculate_average_sentiment(comments, sentiment_function):\n",
    "    sentiment_scores = []\n",
    "    for comment in comments:\n",
    "        sentiment = sentiment_function(comment)\n",
    "        sentiment_scores.append(sentiment)\n",
    "\n",
    "    if sentiment_scores:\n",
    "        average_sentiment = sum(sentiment_scores) / len(sentiment_scores)\n",
    "    else:\n",
    "        average_sentiment = 0.0\n",
    "\n",
    "    return average_sentiment\n",
    "\n",
    "# Calculate average sentiment scores using TextBlob and add them to the DataFrame\n",
    "movies_with_sentiment_textblob = movies_with_youtube_ids.copy()\n",
    "movies_with_sentiment_textblob['Average Sentiment (TextBlob)'] = movies_with_youtube_ids['youtube_video_id'].apply(\n",
    "    lambda vid_id: calculate_average_sentiment(\n",
    "        comments_data[comments_data['youtube_video_id'] == vid_id]['comment_text'], calculate_textblob_sentiment)\n",
    ")\n",
    "\n",
    "# Calculate average sentiment scores using VADER and add them to the DataFrame\n",
    "movies_with_sentiment_vader = movies_with_youtube_ids.copy()\n",
    "movies_with_sentiment_vader['Average Sentiment (VADER)'] = movies_with_youtube_ids['youtube_video_id'].apply(\n",
    "    lambda vid_id: calculate_average_sentiment(\n",
    "        comments_data[comments_data['youtube_video_id'] == vid_id]['comment_text'], calculate_vader_sentiment)\n",
    ")\n",
    "\n",
    "# Display the sentiment analysis results\n",
    "print(\"Movies with Average Sentiment Scores (TextBlob):\")\n",
    "print(movies_with_sentiment_textblob[['movie_title', 'Average Sentiment (TextBlob)']])\n",
    "\n",
    "print(\"\\nMovies with Average Sentiment Scores (VADER):\")\n",
    "print(movies_with_sentiment_vader[['movie_title', 'Average Sentiment (VADER)']])\n"
   ]
  },
  {
   "cell_type": "markdown",
   "metadata": {},
   "source": [
    "# Step 5: Hybrid Recommender System\n",
    "Using only TextBlob Sentimental Analysis as the Vader was giving us the Memory Error"
   ]
  },
  {
   "cell_type": "code",
   "execution_count": 17,
   "metadata": {},
   "outputs": [
    {
     "name": "stdout",
     "output_type": "stream",
     "text": [
      "RMSE for Hybrid Recommender System with Sentiment Analysis: 2.8344\n"
     ]
    }
   ],
   "source": [
    "# Calculate average sentiment scores using TextBlob and add them to the DataFrame\n",
    "movies_with_sentiment_textblob = pd.DataFrame({\n",
    "    'movie_title': movies_with_youtube_ids['movie_title'],\n",
    "    'Average Sentiment (TextBlob)': movies_with_youtube_ids['youtube_video_id'].apply(\n",
    "        lambda vid_id: calculate_average_sentiment(\n",
    "            comments_data[comments_data['youtube_video_id'] == vid_id]['comment_text'], calculate_textblob_sentiment)\n",
    "    )\n",
    "})\n",
    "\n",
    "# Merge sentiment scores into movies_data\n",
    "movies_data = pd.merge(movies_data, movies_with_sentiment_textblob, on='movie_title', how='left')\n",
    "\n",
    "# Update the user-item matrix with sentiment scores (adjust the features accordingly)\n",
    "train_matrix_with_sentiment = np.zeros((n_users, n_items + 1))  # +1 for sentiment score\n",
    "for row in train_data.itertuples():\n",
    "    user_idx = row[1] - 1\n",
    "    item_idx = row[2] - 1\n",
    "    sentiment_score = movies_data.loc[item_idx, 'Average Sentiment (TextBlob)']\n",
    "    train_matrix_with_sentiment[user_idx, item_idx] = row[3]\n",
    "    train_matrix_with_sentiment[user_idx, n_items] = sentiment_score\n",
    "\n",
    "# Perform Singular Value Decomposition (SVD) on the updated training matrix with sentiment scores\n",
    "k = 50\n",
    "U, sigma, Vt = np.linalg.svd(train_matrix_with_sentiment)\n",
    "\n",
    "# Take only the first k columns of U and first k rows of Vt to approximate the original matrix\n",
    "U_k = U[:, :k]\n",
    "Vt_k = Vt[:k, :]\n",
    "\n",
    "# Reconstruct the predicted rating matrix using the approximated matrices\n",
    "predicted_ratings_with_sentiment = np.dot(np.dot(U_k, np.diag(sigma[:k])), Vt_k)\n",
    "\n",
    "# Predicted ratings matrix may contain negative values, so clip them to the range [0, 5]\n",
    "predicted_ratings_with_sentiment = np.clip(predicted_ratings_with_sentiment, 0, 5)\n",
    "\n",
    "# Evaluation: Calculate Root Mean Squared Error (RMSE) for the test data\n",
    "test_matrix_with_sentiment = np.zeros((n_users, n_items))\n",
    "for row in test_data.itertuples():\n",
    "    test_matrix_with_sentiment[row[1] - 1, row[2] - 1] = row[3]\n",
    "\n",
    "# Keep only the non-zero entries to calculate RMSE\n",
    "non_zero_idx_with_sentiment = test_matrix_with_sentiment.nonzero()\n",
    "rmse_with_sentiment = sqrt(mean_squared_error(test_matrix_with_sentiment[non_zero_idx_with_sentiment],\n",
    "                                              predicted_ratings_with_sentiment[non_zero_idx_with_sentiment]))\n",
    "\n",
    "print(f\"RMSE for Hybrid Recommender System with Sentiment Analysis: {rmse_with_sentiment:.4f}\")\n"
   ]
  },
  {
   "cell_type": "code",
   "execution_count": null,
   "metadata": {},
   "outputs": [],
   "source": []
  }
 ],
 "metadata": {
  "colab": {
   "gpuType": "T4",
   "provenance": []
  },
  "kernelspec": {
   "display_name": "Python 3 (ipykernel)",
   "language": "python",
   "name": "python3"
  },
  "language_info": {
   "codemirror_mode": {
    "name": "ipython",
    "version": 3
   },
   "file_extension": ".py",
   "mimetype": "text/x-python",
   "name": "python",
   "nbconvert_exporter": "python",
   "pygments_lexer": "ipython3",
   "version": "3.10.9"
  }
 },
 "nbformat": 4,
 "nbformat_minor": 1
}
